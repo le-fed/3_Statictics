{
 "cells": [
  {
   "cell_type": "markdown",
   "metadata": {},
   "source": [
    "### Обязательная часть\n",
    "Вам необходимо провести базовый EDA выбранного набора данных.\n",
    "\n",
    "Требования к анализу:\n",
    "\n",
    "построить не менее 4 визуализаций различных видов;\n",
    "каждая визуализация должным образом оформлена и читается даже в отрыве от контекста;\n",
    "по каждой визуализации необходимо написать вывод (какую гипотезу на ее основе можно выдвинуть?).\n",
    "\n",
    "Можете взять свои рабочие данные, либо найти открытые данные (например, на kaggle.com) по интересующей вас предметной области (тогда не забудьте их выложить на github вместе с ноутбуком). Если идей нет, можете взять один из перечисленных ниже:\n",
    "\n",
    "данные приложений из Google Play;\n",
    "данные о видео из трендов YouTube;\n",
    "данные об уровне счастья в разных странах.\n",
    "\n",
    "### Дополнительная часть (необязательная)\n",
    "построить дополнительно не менее 2 визуализаций (итого не менее 6);\n",
    "в работе должны присутствовать следующие визуализации: boxplot, heatmap, scatter plot matrix;"
   ]
  },
  {
   "cell_type": "code",
   "execution_count": 1,
   "metadata": {},
   "outputs": [],
   "source": [
    "import matplotlib.pyplot as plt\n",
    "import pandas as pd\n",
    "import numpy as np\n",
    "import seaborn as sns"
   ]
  },
  {
   "cell_type": "markdown",
   "metadata": {},
   "source": [
    "Данные: рейтинг шоколада с www.kaggle.com\n",
    "\n",
    "https://www.kaggle.com/soroushghaderi/chocolate-bar-2020?select=chocolate.csv"
   ]
  },
  {
   "cell_type": "code",
   "execution_count": 2,
   "metadata": {},
   "outputs": [
    {
     "data": {
      "text/html": [
       "<div>\n",
       "<style scoped>\n",
       "    .dataframe tbody tr th:only-of-type {\n",
       "        vertical-align: middle;\n",
       "    }\n",
       "\n",
       "    .dataframe tbody tr th {\n",
       "        vertical-align: top;\n",
       "    }\n",
       "\n",
       "    .dataframe thead th {\n",
       "        text-align: right;\n",
       "    }\n",
       "</style>\n",
       "<table border=\"1\" class=\"dataframe\">\n",
       "  <thead>\n",
       "    <tr style=\"text-align: right;\">\n",
       "      <th></th>\n",
       "      <th>Unnamed: 0</th>\n",
       "      <th>ref</th>\n",
       "      <th>company</th>\n",
       "      <th>company_location</th>\n",
       "      <th>review_date</th>\n",
       "      <th>country_of_bean_origin</th>\n",
       "      <th>specific_bean_origin_or_bar_name</th>\n",
       "      <th>cocoa_percent</th>\n",
       "      <th>rating</th>\n",
       "      <th>counts_of_ingredients</th>\n",
       "      <th>...</th>\n",
       "      <th>cocoa_butter</th>\n",
       "      <th>vanilla</th>\n",
       "      <th>lecithin</th>\n",
       "      <th>salt</th>\n",
       "      <th>sugar</th>\n",
       "      <th>sweetener_without_sugar</th>\n",
       "      <th>first_taste</th>\n",
       "      <th>second_taste</th>\n",
       "      <th>third_taste</th>\n",
       "      <th>fourth_taste</th>\n",
       "    </tr>\n",
       "  </thead>\n",
       "  <tbody>\n",
       "    <tr>\n",
       "      <th>0</th>\n",
       "      <td>0</td>\n",
       "      <td>2454</td>\n",
       "      <td>5150</td>\n",
       "      <td>U.S.A</td>\n",
       "      <td>2019</td>\n",
       "      <td>Madagascar</td>\n",
       "      <td>Bejofo Estate, batch 1</td>\n",
       "      <td>76.0</td>\n",
       "      <td>3.75</td>\n",
       "      <td>3</td>\n",
       "      <td>...</td>\n",
       "      <td>have_cocoa_butter</td>\n",
       "      <td>have_not_vanila</td>\n",
       "      <td>have_not_lecithin</td>\n",
       "      <td>have_not_salt</td>\n",
       "      <td>have_sugar</td>\n",
       "      <td>have_not_sweetener_without_sugar</td>\n",
       "      <td>cocoa</td>\n",
       "      <td>blackberry</td>\n",
       "      <td>full body</td>\n",
       "      <td>NaN</td>\n",
       "    </tr>\n",
       "    <tr>\n",
       "      <th>1</th>\n",
       "      <td>1</td>\n",
       "      <td>2458</td>\n",
       "      <td>5150</td>\n",
       "      <td>U.S.A</td>\n",
       "      <td>2019</td>\n",
       "      <td>Dominican republic</td>\n",
       "      <td>Zorzal, batch 1</td>\n",
       "      <td>76.0</td>\n",
       "      <td>3.50</td>\n",
       "      <td>3</td>\n",
       "      <td>...</td>\n",
       "      <td>have_cocoa_butter</td>\n",
       "      <td>have_not_vanila</td>\n",
       "      <td>have_not_lecithin</td>\n",
       "      <td>have_not_salt</td>\n",
       "      <td>have_sugar</td>\n",
       "      <td>have_not_sweetener_without_sugar</td>\n",
       "      <td>cocoa</td>\n",
       "      <td>vegetal</td>\n",
       "      <td>savory</td>\n",
       "      <td>NaN</td>\n",
       "    </tr>\n",
       "    <tr>\n",
       "      <th>2</th>\n",
       "      <td>2</td>\n",
       "      <td>2454</td>\n",
       "      <td>5150</td>\n",
       "      <td>U.S.A</td>\n",
       "      <td>2019</td>\n",
       "      <td>Tanzania</td>\n",
       "      <td>Kokoa Kamili, batch 1</td>\n",
       "      <td>76.0</td>\n",
       "      <td>3.25</td>\n",
       "      <td>3</td>\n",
       "      <td>...</td>\n",
       "      <td>have_cocoa_butter</td>\n",
       "      <td>have_not_vanila</td>\n",
       "      <td>have_not_lecithin</td>\n",
       "      <td>have_not_salt</td>\n",
       "      <td>have_sugar</td>\n",
       "      <td>have_not_sweetener_without_sugar</td>\n",
       "      <td>rich cocoa</td>\n",
       "      <td>fatty</td>\n",
       "      <td>bready</td>\n",
       "      <td>NaN</td>\n",
       "    </tr>\n",
       "    <tr>\n",
       "      <th>3</th>\n",
       "      <td>3</td>\n",
       "      <td>797</td>\n",
       "      <td>A. Morin</td>\n",
       "      <td>France</td>\n",
       "      <td>2012</td>\n",
       "      <td>Peru</td>\n",
       "      <td>Peru</td>\n",
       "      <td>63.0</td>\n",
       "      <td>3.75</td>\n",
       "      <td>4</td>\n",
       "      <td>...</td>\n",
       "      <td>have_cocoa_butter</td>\n",
       "      <td>have_not_vanila</td>\n",
       "      <td>have_lecithin</td>\n",
       "      <td>have_not_salt</td>\n",
       "      <td>have_sugar</td>\n",
       "      <td>have_not_sweetener_without_sugar</td>\n",
       "      <td>fruity</td>\n",
       "      <td>melon</td>\n",
       "      <td>roasty</td>\n",
       "      <td>NaN</td>\n",
       "    </tr>\n",
       "    <tr>\n",
       "      <th>4</th>\n",
       "      <td>4</td>\n",
       "      <td>797</td>\n",
       "      <td>A. Morin</td>\n",
       "      <td>France</td>\n",
       "      <td>2012</td>\n",
       "      <td>Bolivia</td>\n",
       "      <td>Bolivia</td>\n",
       "      <td>70.0</td>\n",
       "      <td>3.50</td>\n",
       "      <td>4</td>\n",
       "      <td>...</td>\n",
       "      <td>have_cocoa_butter</td>\n",
       "      <td>have_not_vanila</td>\n",
       "      <td>have_lecithin</td>\n",
       "      <td>have_not_salt</td>\n",
       "      <td>have_sugar</td>\n",
       "      <td>have_not_sweetener_without_sugar</td>\n",
       "      <td>vegetal</td>\n",
       "      <td>nutty</td>\n",
       "      <td>NaN</td>\n",
       "      <td>NaN</td>\n",
       "    </tr>\n",
       "  </tbody>\n",
       "</table>\n",
       "<p>5 rows × 21 columns</p>\n",
       "</div>"
      ],
      "text/plain": [
       "   Unnamed: 0   ref   company company_location  review_date  \\\n",
       "0           0  2454      5150            U.S.A         2019   \n",
       "1           1  2458      5150            U.S.A         2019   \n",
       "2           2  2454      5150            U.S.A         2019   \n",
       "3           3   797  A. Morin           France         2012   \n",
       "4           4   797  A. Morin           France         2012   \n",
       "\n",
       "  country_of_bean_origin specific_bean_origin_or_bar_name  cocoa_percent  \\\n",
       "0             Madagascar           Bejofo Estate, batch 1           76.0   \n",
       "1     Dominican republic                  Zorzal, batch 1           76.0   \n",
       "2               Tanzania            Kokoa Kamili, batch 1           76.0   \n",
       "3                   Peru                             Peru           63.0   \n",
       "4                Bolivia                          Bolivia           70.0   \n",
       "\n",
       "   rating  counts_of_ingredients  ...       cocoa_butter          vanilla  \\\n",
       "0    3.75                      3  ...  have_cocoa_butter  have_not_vanila   \n",
       "1    3.50                      3  ...  have_cocoa_butter  have_not_vanila   \n",
       "2    3.25                      3  ...  have_cocoa_butter  have_not_vanila   \n",
       "3    3.75                      4  ...  have_cocoa_butter  have_not_vanila   \n",
       "4    3.50                      4  ...  have_cocoa_butter  have_not_vanila   \n",
       "\n",
       "            lecithin           salt       sugar  \\\n",
       "0  have_not_lecithin  have_not_salt  have_sugar   \n",
       "1  have_not_lecithin  have_not_salt  have_sugar   \n",
       "2  have_not_lecithin  have_not_salt  have_sugar   \n",
       "3      have_lecithin  have_not_salt  have_sugar   \n",
       "4      have_lecithin  have_not_salt  have_sugar   \n",
       "\n",
       "            sweetener_without_sugar first_taste second_taste third_taste  \\\n",
       "0  have_not_sweetener_without_sugar       cocoa   blackberry   full body   \n",
       "1  have_not_sweetener_without_sugar       cocoa      vegetal      savory   \n",
       "2  have_not_sweetener_without_sugar  rich cocoa        fatty      bready   \n",
       "3  have_not_sweetener_without_sugar      fruity        melon      roasty   \n",
       "4  have_not_sweetener_without_sugar     vegetal        nutty         NaN   \n",
       "\n",
       "  fourth_taste  \n",
       "0          NaN  \n",
       "1          NaN  \n",
       "2          NaN  \n",
       "3          NaN  \n",
       "4          NaN  \n",
       "\n",
       "[5 rows x 21 columns]"
      ]
     },
     "execution_count": 2,
     "metadata": {},
     "output_type": "execute_result"
    }
   ],
   "source": [
    "# данные\n",
    "df_full = pd.read_csv('chocolate.csv')\n",
    "df_full.head()"
   ]
  },
  {
   "cell_type": "code",
   "execution_count": 4,
   "metadata": {},
   "outputs": [
    {
     "name": "stdout",
     "output_type": "stream",
     "text": [
      "<class 'pandas.core.frame.DataFrame'>\n",
      "RangeIndex: 2224 entries, 0 to 2223\n",
      "Data columns (total 21 columns):\n",
      " #   Column                            Non-Null Count  Dtype  \n",
      "---  ------                            --------------  -----  \n",
      " 0   Unnamed: 0                        2224 non-null   int64  \n",
      " 1   ref                               2224 non-null   int64  \n",
      " 2   company                           2224 non-null   object \n",
      " 3   company_location                  2224 non-null   object \n",
      " 4   review_date                       2224 non-null   int64  \n",
      " 5   country_of_bean_origin            2224 non-null   object \n",
      " 6   specific_bean_origin_or_bar_name  2224 non-null   object \n",
      " 7   cocoa_percent                     2224 non-null   float64\n",
      " 8   rating                            2224 non-null   float64\n",
      " 9   counts_of_ingredients             2224 non-null   int64  \n",
      " 10  beans                             2224 non-null   object \n",
      " 11  cocoa_butter                      2224 non-null   object \n",
      " 12  vanilla                           2224 non-null   object \n",
      " 13  lecithin                          2224 non-null   object \n",
      " 14  salt                              2224 non-null   object \n",
      " 15  sugar                             2224 non-null   object \n",
      " 16  sweetener_without_sugar           2224 non-null   object \n",
      " 17  first_taste                       2224 non-null   object \n",
      " 18  second_taste                      2147 non-null   object \n",
      " 19  third_taste                       1604 non-null   object \n",
      " 20  fourth_taste                      242 non-null    object \n",
      "dtypes: float64(2), int64(4), object(15)\n",
      "memory usage: 365.0+ KB\n"
     ]
    }
   ],
   "source": [
    "df_full.info()"
   ]
  },
  {
   "cell_type": "code",
   "execution_count": 5,
   "metadata": {},
   "outputs": [],
   "source": [
    "# столбцов многовато, для этого задания не буду брать часть про вкусы и определенные ингридиенты\n",
    "df = df_full.iloc[:,2:10]"
   ]
  },
  {
   "cell_type": "code",
   "execution_count": 80,
   "metadata": {},
   "outputs": [],
   "source": [
    "# но добавлю укрепненный рейтинг из описания датасета\n",
    "# и технический столбец для pivot, по-другому не смогла сделать подсчет оценок :(\n",
    "\"\"\"\n",
    "Rating Scale\n",
    "* 4.0 - 5.0 = Outstanding\n",
    "* 3.5 - 3.9 = Highly Recommended\n",
    "* 3.0 - 3.49 = Recommended\n",
    "* 2.0 - 2.9 = Disappointing\n",
    "* 1.0 - 1.9 = Unpleasant\n",
    "\"\"\"\n",
    "\n",
    "def rate(row):\n",
    "    \"\"\"функция укрупнения рейтинга\"\"\"\n",
    "    if row['rating'] <= 1.9:\n",
    "        return 'Unpleasant'\n",
    "    elif row['rating'] <= 2.9:\n",
    "        return 'Disappointing'\n",
    "    elif row['rating'] <= 3.49:\n",
    "        return 'Recommended'\n",
    "    elif row['rating'] <= 3.9:\n",
    "        return 'Highly Recommended'\n",
    "    else:\n",
    "        return 'Outstanding'\n",
    "    \n",
    "df['class'] = df.apply(rate, axis=1)\n",
    "\n",
    "df['counter'] = 1"
   ]
  },
  {
   "cell_type": "code",
   "execution_count": 53,
   "metadata": {},
   "outputs": [
    {
     "data": {
      "text/html": [
       "<div>\n",
       "<style scoped>\n",
       "    .dataframe tbody tr th:only-of-type {\n",
       "        vertical-align: middle;\n",
       "    }\n",
       "\n",
       "    .dataframe tbody tr th {\n",
       "        vertical-align: top;\n",
       "    }\n",
       "\n",
       "    .dataframe thead th {\n",
       "        text-align: right;\n",
       "    }\n",
       "</style>\n",
       "<table border=\"1\" class=\"dataframe\">\n",
       "  <thead>\n",
       "    <tr style=\"text-align: right;\">\n",
       "      <th></th>\n",
       "      <th>company</th>\n",
       "      <th>company_location</th>\n",
       "      <th>review_date</th>\n",
       "      <th>country_of_bean_origin</th>\n",
       "      <th>specific_bean_origin_or_bar_name</th>\n",
       "      <th>cocoa_percent</th>\n",
       "      <th>rating</th>\n",
       "      <th>counts_of_ingredients</th>\n",
       "      <th>class</th>\n",
       "      <th>counter</th>\n",
       "    </tr>\n",
       "  </thead>\n",
       "  <tbody>\n",
       "    <tr>\n",
       "      <th>0</th>\n",
       "      <td>5150</td>\n",
       "      <td>U.S.A</td>\n",
       "      <td>2019</td>\n",
       "      <td>Madagascar</td>\n",
       "      <td>Bejofo Estate, batch 1</td>\n",
       "      <td>76.0</td>\n",
       "      <td>3.75</td>\n",
       "      <td>3</td>\n",
       "      <td>Highly Recommended</td>\n",
       "      <td>1</td>\n",
       "    </tr>\n",
       "    <tr>\n",
       "      <th>1</th>\n",
       "      <td>5150</td>\n",
       "      <td>U.S.A</td>\n",
       "      <td>2019</td>\n",
       "      <td>Dominican republic</td>\n",
       "      <td>Zorzal, batch 1</td>\n",
       "      <td>76.0</td>\n",
       "      <td>3.50</td>\n",
       "      <td>3</td>\n",
       "      <td>Highly Recommended</td>\n",
       "      <td>1</td>\n",
       "    </tr>\n",
       "    <tr>\n",
       "      <th>2</th>\n",
       "      <td>5150</td>\n",
       "      <td>U.S.A</td>\n",
       "      <td>2019</td>\n",
       "      <td>Tanzania</td>\n",
       "      <td>Kokoa Kamili, batch 1</td>\n",
       "      <td>76.0</td>\n",
       "      <td>3.25</td>\n",
       "      <td>3</td>\n",
       "      <td>Recommended</td>\n",
       "      <td>1</td>\n",
       "    </tr>\n",
       "    <tr>\n",
       "      <th>3</th>\n",
       "      <td>A. Morin</td>\n",
       "      <td>France</td>\n",
       "      <td>2012</td>\n",
       "      <td>Peru</td>\n",
       "      <td>Peru</td>\n",
       "      <td>63.0</td>\n",
       "      <td>3.75</td>\n",
       "      <td>4</td>\n",
       "      <td>Highly Recommended</td>\n",
       "      <td>1</td>\n",
       "    </tr>\n",
       "    <tr>\n",
       "      <th>4</th>\n",
       "      <td>A. Morin</td>\n",
       "      <td>France</td>\n",
       "      <td>2012</td>\n",
       "      <td>Bolivia</td>\n",
       "      <td>Bolivia</td>\n",
       "      <td>70.0</td>\n",
       "      <td>3.50</td>\n",
       "      <td>4</td>\n",
       "      <td>Highly Recommended</td>\n",
       "      <td>1</td>\n",
       "    </tr>\n",
       "  </tbody>\n",
       "</table>\n",
       "</div>"
      ],
      "text/plain": [
       "    company company_location  review_date country_of_bean_origin  \\\n",
       "0      5150            U.S.A         2019             Madagascar   \n",
       "1      5150            U.S.A         2019     Dominican republic   \n",
       "2      5150            U.S.A         2019               Tanzania   \n",
       "3  A. Morin           France         2012                   Peru   \n",
       "4  A. Morin           France         2012                Bolivia   \n",
       "\n",
       "  specific_bean_origin_or_bar_name  cocoa_percent  rating  \\\n",
       "0           Bejofo Estate, batch 1           76.0    3.75   \n",
       "1                  Zorzal, batch 1           76.0    3.50   \n",
       "2            Kokoa Kamili, batch 1           76.0    3.25   \n",
       "3                             Peru           63.0    3.75   \n",
       "4                          Bolivia           70.0    3.50   \n",
       "\n",
       "   counts_of_ingredients               class  counter  \n",
       "0                      3  Highly Recommended        1  \n",
       "1                      3  Highly Recommended        1  \n",
       "2                      3         Recommended        1  \n",
       "3                      4  Highly Recommended        1  \n",
       "4                      4  Highly Recommended        1  "
      ]
     },
     "execution_count": 53,
     "metadata": {},
     "output_type": "execute_result"
    }
   ],
   "source": [
    "df.head()"
   ]
  },
  {
   "cell_type": "code",
   "execution_count": 17,
   "metadata": {},
   "outputs": [
    {
     "name": "stdout",
     "output_type": "stream",
     "text": [
      "<class 'pandas.core.frame.DataFrame'>\n",
      "RangeIndex: 2224 entries, 0 to 2223\n",
      "Data columns (total 9 columns):\n",
      " #   Column                            Non-Null Count  Dtype  \n",
      "---  ------                            --------------  -----  \n",
      " 0   company                           2224 non-null   object \n",
      " 1   company_location                  2224 non-null   object \n",
      " 2   review_date                       2224 non-null   int64  \n",
      " 3   country_of_bean_origin            2224 non-null   object \n",
      " 4   specific_bean_origin_or_bar_name  2224 non-null   object \n",
      " 5   cocoa_percent                     2224 non-null   float64\n",
      " 6   rating                            2224 non-null   float64\n",
      " 7   counts_of_ingredients             2224 non-null   int64  \n",
      " 8   class                             2224 non-null   object \n",
      "dtypes: float64(2), int64(2), object(5)\n",
      "memory usage: 156.5+ KB\n"
     ]
    }
   ],
   "source": [
    "df.info()"
   ]
  },
  {
   "cell_type": "code",
   "execution_count": 18,
   "metadata": {},
   "outputs": [
    {
     "data": {
      "text/html": [
       "<div>\n",
       "<style scoped>\n",
       "    .dataframe tbody tr th:only-of-type {\n",
       "        vertical-align: middle;\n",
       "    }\n",
       "\n",
       "    .dataframe tbody tr th {\n",
       "        vertical-align: top;\n",
       "    }\n",
       "\n",
       "    .dataframe thead th {\n",
       "        text-align: right;\n",
       "    }\n",
       "</style>\n",
       "<table border=\"1\" class=\"dataframe\">\n",
       "  <thead>\n",
       "    <tr style=\"text-align: right;\">\n",
       "      <th></th>\n",
       "      <th>review_date</th>\n",
       "      <th>cocoa_percent</th>\n",
       "      <th>rating</th>\n",
       "      <th>counts_of_ingredients</th>\n",
       "    </tr>\n",
       "  </thead>\n",
       "  <tbody>\n",
       "    <tr>\n",
       "      <th>count</th>\n",
       "      <td>2224.000000</td>\n",
       "      <td>2224.000000</td>\n",
       "      <td>2224.000000</td>\n",
       "      <td>2224.000000</td>\n",
       "    </tr>\n",
       "    <tr>\n",
       "      <th>mean</th>\n",
       "      <td>2013.857914</td>\n",
       "      <td>71.493930</td>\n",
       "      <td>3.198561</td>\n",
       "      <td>3.075989</td>\n",
       "    </tr>\n",
       "    <tr>\n",
       "      <th>std</th>\n",
       "      <td>3.582151</td>\n",
       "      <td>5.278253</td>\n",
       "      <td>0.434329</td>\n",
       "      <td>0.929875</td>\n",
       "    </tr>\n",
       "    <tr>\n",
       "      <th>min</th>\n",
       "      <td>2006.000000</td>\n",
       "      <td>42.000000</td>\n",
       "      <td>1.000000</td>\n",
       "      <td>1.000000</td>\n",
       "    </tr>\n",
       "    <tr>\n",
       "      <th>25%</th>\n",
       "      <td>2011.000000</td>\n",
       "      <td>70.000000</td>\n",
       "      <td>3.000000</td>\n",
       "      <td>2.000000</td>\n",
       "    </tr>\n",
       "    <tr>\n",
       "      <th>50%</th>\n",
       "      <td>2014.000000</td>\n",
       "      <td>70.000000</td>\n",
       "      <td>3.250000</td>\n",
       "      <td>3.000000</td>\n",
       "    </tr>\n",
       "    <tr>\n",
       "      <th>75%</th>\n",
       "      <td>2016.000000</td>\n",
       "      <td>74.000000</td>\n",
       "      <td>3.500000</td>\n",
       "      <td>4.000000</td>\n",
       "    </tr>\n",
       "    <tr>\n",
       "      <th>max</th>\n",
       "      <td>2020.000000</td>\n",
       "      <td>100.000000</td>\n",
       "      <td>4.000000</td>\n",
       "      <td>6.000000</td>\n",
       "    </tr>\n",
       "  </tbody>\n",
       "</table>\n",
       "</div>"
      ],
      "text/plain": [
       "       review_date  cocoa_percent       rating  counts_of_ingredients\n",
       "count  2224.000000    2224.000000  2224.000000            2224.000000\n",
       "mean   2013.857914      71.493930     3.198561               3.075989\n",
       "std       3.582151       5.278253     0.434329               0.929875\n",
       "min    2006.000000      42.000000     1.000000               1.000000\n",
       "25%    2011.000000      70.000000     3.000000               2.000000\n",
       "50%    2014.000000      70.000000     3.250000               3.000000\n",
       "75%    2016.000000      74.000000     3.500000               4.000000\n",
       "max    2020.000000     100.000000     4.000000               6.000000"
      ]
     },
     "execution_count": 18,
     "metadata": {},
     "output_type": "execute_result"
    }
   ],
   "source": [
    "df.describe()"
   ]
  },
  {
   "cell_type": "code",
   "execution_count": 20,
   "metadata": {},
   "outputs": [
    {
     "data": {
      "text/plain": [
       "Recommended           865\n",
       "Highly Recommended    754\n",
       "Disappointing         497\n",
       "Outstanding           101\n",
       "Unpleasant              7\n",
       "Name: class, dtype: int64"
      ]
     },
     "execution_count": 20,
     "metadata": {},
     "output_type": "execute_result"
    }
   ],
   "source": [
    "df['class'].value_counts()"
   ]
  },
  {
   "cell_type": "markdown",
   "metadata": {},
   "source": [
    "## ГРАФИКИ"
   ]
  },
  {
   "cell_type": "code",
   "execution_count": 21,
   "metadata": {},
   "outputs": [
    {
     "data": {
      "text/plain": [
       "<AxesSubplot:title={'center':'Rating distribution'}, ylabel='Frequency'>"
      ]
     },
     "execution_count": 21,
     "metadata": {},
     "output_type": "execute_result"
    },
    {
     "data": {
      "image/png": "[encoded data removed]",
      "text/plain": [
       "<Figure size 432x288 with 1 Axes>"
      ]
     },
     "metadata": {
      "needs_background": "light"
     },
     "output_type": "display_data"
    }
   ],
   "source": [
    "# распределение балльных оценок\n",
    "df['rating'].plot(kind='hist', \n",
    "                   title='Rating distribution',\n",
    "                   xlabel='Rating',\n",
    "                   ylabel='Ref')"
   ]
  },
  {
   "cell_type": "markdown",
   "metadata": {},
   "source": [
    "Распределение балльных оценок:\n",
    "ближе всего к равномерному + выбросы (низкие оценки).\n",
    "\n",
    "Смотрим подробнее дальше:"
   ]
  },
  {
   "cell_type": "code",
   "execution_count": 22,
   "metadata": {},
   "outputs": [
    {
     "data": {
      "text/plain": [
       "<AxesSubplot:title={'center':'Rating distribution'}>"
      ]
     },
     "execution_count": 22,
     "metadata": {},
     "output_type": "execute_result"
    },
    {
     "data": {
      "image/png": "[encoded data removed]",
      "text/plain": [
       "<Figure size 432x288 with 1 Axes>"
      ]
     },
     "metadata": {
      "needs_background": "light"
     },
     "output_type": "display_data"
    }
   ],
   "source": [
    "# boxplot\n",
    "df['rating'].plot(kind='box',\n",
    "                   title='Rating distribution', grid=True)"
   ]
  },
  {
   "cell_type": "code",
   "execution_count": null,
   "metadata": {},
   "outputs": [],
   "source": [
    "# посмотреть на выбросы (низкие оценки)\n",
    "df[df['rating'] < 2.25].sort_values('rating')"
   ]
  },
  {
   "cell_type": "markdown",
   "metadata": {},
   "source": [
    "Основная часть выставляемых оценок - между 3 и 3.5, т.е. Recommended.\n",
    "Совсем низких оценок (Unpleasant & very Disappointing - т.е. до 2.25) ставится совсем мало, как и совсем высоких - Outstanding. \n",
    "Оценок выше 4.0 в данных нет.\n",
    "\n",
    "Посмотрю, как это выглядит при укрупнении рейтинга (=класса) и как выглядят оценки по годам (также в разрезе класса)."
   ]
  },
  {
   "cell_type": "code",
   "execution_count": 79,
   "metadata": {},
   "outputs": [
    {
     "data": {
      "text/plain": [
       "<AxesSubplot:>"
      ]
     },
     "execution_count": 79,
     "metadata": {},
     "output_type": "execute_result"
    },
    {
     "data": {
      "image/png": "[encoded data removed]",
      "text/plain": [
       "<Figure size 432x288 with 1 Axes>"
      ]
     },
     "metadata": {},
     "output_type": "display_data"
    }
   ],
   "source": [
    "# количество оценок в разрезе укрупненного рейтинга (класса)\n",
    "number_of_rates_by_class = df['class'].value_counts().sort_values(ascending = False)\n",
    "number_of_rates_by_class.plot(kind='pie', ylabel='')"
   ]
  },
  {
   "cell_type": "code",
   "execution_count": 74,
   "metadata": {},
   "outputs": [
    {
     "data": {
      "text/plain": [
       "<AxesSubplot:xlabel='review_date'>"
      ]
     },
     "execution_count": 74,
     "metadata": {},
     "output_type": "execute_result"
    },
    {
     "data": {
      "image/png": "[encoded data removed]",
      "text/plain": [
       "<Figure size 432x288 with 1 Axes>"
      ]
     },
     "metadata": {
      "needs_background": "light"
     },
     "output_type": "display_data"
    }
   ],
   "source": [
    "# количество оценок по годам в разрезе укрупненного рейтинга (класса)\n",
    "ratings_by_years = pd.pivot_table(df, values='counter', index=['review_date'],columns=['class'], aggfunc=np.sum, fill_value=0)\n",
    "\n",
    "ratings_by_years.plot(kind='bar', stacked=True)"
   ]
  },
  {
   "cell_type": "markdown",
   "metadata": {},
   "source": [
    "Структура выставляемых оценок по годам не особенно меняется, больше всего Recommended / Highly Recommended.\n",
    "Из-за чего уменьшается общее количество оценок в 2017 и 2020 годах - неясно. \n",
    "\n",
    "Возможные объяснения: 2017 год был неурожайный/ проблемы с поставками сырья для горького шоколада, 2020 - скорее всего еще неполный год."
   ]
  },
  {
   "cell_type": "code",
   "execution_count": null,
   "metadata": {},
   "outputs": [],
   "source": [
    "#задание еще не закончено, выкладываю так, тк дедалайн"
   ]
  }
 ],
 "metadata": {
  "kernelspec": {
   "display_name": "Python 3",
   "language": "python",
   "name": "python3"
  },
  "language_info": {
   "codemirror_mode": {
    "name": "ipython",
    "version": 3
   },
   "file_extension": ".py",
   "mimetype": "text/x-python",
   "name": "python",
   "nbconvert_exporter": "python",
   "pygments_lexer": "ipython3",
   "version": "3.8.5"
  }
 },
 "nbformat": 4,
 "nbformat_minor": 4
}
