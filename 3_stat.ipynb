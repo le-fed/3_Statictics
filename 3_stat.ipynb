{
 "cells": [
  {
   "cell_type": "markdown",
   "metadata": {},
   "source": [
    "##### Задание \n",
    "\n",
    "Смоделировать игру против лотерейного автомата типа “777”. Игрок платит 1 руб., после чего выпадает случайное целое число, равномерно распределенное от 0 до 999. При некоторых значениях числа игрок получает выигрыш (см. справа)\n",
    "\n",
    "Выгодна ли игра игроку?\n",
    "\n",
    "Сколько в среднем приобретает\n",
    "или теряет игрок за одну игру?\n",
    "\n",
    "* 777: 200 руб.\n",
    "* 999: 100 руб.\n",
    "* 555: 50 руб.\n",
    "* 333: 15 руб.\n",
    "* 111: 10 руб.\n",
    "* *77: 5 руб.\n",
    "* **7: 3 руб.\n",
    "* *00: 2 руб.\n",
    "* **0: 1 руб."
   ]
  },
  {
   "cell_type": "code",
   "execution_count": 1,
   "metadata": {},
   "outputs": [],
   "source": [
    "import numpy as np"
   ]
  },
  {
   "cell_type": "code",
   "execution_count": 34,
   "metadata": {},
   "outputs": [],
   "source": [
    "# создаю словарик с 0 для всех комбинаций\n",
    "winnings_dict = {a: 0 for a in range(1000)}\n",
    "\n",
    "# обновляю для указанных в задании комбинаций сумму выигрыша\n",
    "for key in winnings_dict.keys():\n",
    "    if key % 100 == 0:\n",
    "        winnings_dict[key] = 2    \n",
    "    elif key % 10 == 0:\n",
    "        winnings_dict[key] = 1\n",
    "    elif (key - 77) % 100 == 0:\n",
    "        winnings_dict[key] = 5\n",
    "    elif (key - 7) % 10 == 0:\n",
    "        winnings_dict[key] = 3     \n",
    "        \n",
    "winnings_dict[777] = 200\n",
    "winnings_dict[999] = 100\n",
    "winnings_dict[555] = 50\n",
    "winnings_dict[333] = 15"
   ]
  },
  {
   "cell_type": "code",
   "execution_count": 43,
   "metadata": {},
   "outputs": [
    {
     "data": {
      "text/plain": [
       "-0.21"
      ]
     },
     "execution_count": 43,
     "metadata": {},
     "output_type": "execute_result"
    }
   ],
   "source": [
    "# в итоге за игру: игрок в среднем теряет 21 коп. \n",
    "(sum(winnings_dict.values()) - len(winnings_dict) * 1 ) / len(winnings_dict)"
   ]
  },
  {
   "cell_type": "code",
   "execution_count": 55,
   "metadata": {},
   "outputs": [
    {
     "data": {
      "text/plain": [
       "-0.209826"
      ]
     },
     "execution_count": 55,
     "metadata": {},
     "output_type": "execute_result"
    }
   ],
   "source": [
    "# моделирование\n",
    "\n",
    "trials = 5000000    # Количество попыток\n",
    "winnings = 0    # 1 рубль - выигрыш\n",
    "\n",
    "for i in range(trials):\n",
    "    random_score = np.random.randint(0, 1000)\n",
    "    winnings += winnings_dict[random_score] - 1\n",
    "    \n",
    "#средний результат за 1 игру    \n",
    "winnings/trials    \n"
   ]
  },
  {
   "cell_type": "markdown",
   "metadata": {},
   "source": [
    "Выгодна ли игра игроку? *НЕТ*\n",
    "\n",
    "Сколько в среднем приобретает или теряет игрок за одну игру? *Теряет 21 коп.*"
   ]
  },
  {
   "cell_type": "markdown",
   "metadata": {},
   "source": [
    "##### Дополнительное задание повышенной сложности\n",
    "\n",
    "Теоретически рассчитать средний выигрыш (проигрыш) и сравнить с результатами моделирования"
   ]
  },
  {
   "cell_type": "code",
   "execution_count": 53,
   "metadata": {},
   "outputs": [
    {
     "data": {
      "text/plain": [
       "-0.19999999999999996"
      ]
     },
     "execution_count": 53,
     "metadata": {},
     "output_type": "execute_result"
    }
   ],
   "source": [
    "# (выигрыш * кол-во исходов ) / 1000\n",
    "theory_winnings = (200 * 1 + 100 * 1 + 50 * 1 + 15 * 1 + 10 * 1 + 5 * 9 + 3 * (10 ** 2 - 10) + 2 * 10 + 1 * (10 ** 2 - 10)) / 1000\n",
    "theory_result = theory_winnings - 1\n",
    "theory_result"
   ]
  },
  {
   "cell_type": "markdown",
   "metadata": {},
   "source": [
    "Формульно получаю -20 коп. за игру :("
   ]
  }
 ],
 "metadata": {
  "kernelspec": {
   "display_name": "Python 3",
   "language": "python",
   "name": "python3"
  },
  "language_info": {
   "codemirror_mode": {
    "name": "ipython",
    "version": 3
   },
   "file_extension": ".py",
   "mimetype": "text/x-python",
   "name": "python",
   "nbconvert_exporter": "python",
   "pygments_lexer": "ipython3",
   "version": "3.8.5"
  }
 },
 "nbformat": 4,
 "nbformat_minor": 4
}
